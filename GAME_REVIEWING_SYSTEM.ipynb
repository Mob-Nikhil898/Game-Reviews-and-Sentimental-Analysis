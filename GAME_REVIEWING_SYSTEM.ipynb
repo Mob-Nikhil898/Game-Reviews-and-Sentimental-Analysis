{
  "nbformat": 4,
  "nbformat_minor": 0,
  "metadata": {
    "colab": {
      "name": "GAME REVIEWING SYSTEM.ipynb",
      "provenance": [],
      "collapsed_sections": []
    },
    "kernelspec": {
      "name": "python3",
      "display_name": "Python 3"
    },
    "language_info": {
      "name": "python"
    },
    "accelerator": "TPU"
  },
  "cells": [
    {
      "cell_type": "code",
      "metadata": {
        "colab": {
          "base_uri": "https://localhost:8080/"
        },
        "id": "4BqRKyExZbgV",
        "outputId": "3978f170-e918-475b-e7c2-5bb5d6231b84"
      },
      "source": [
        "!pip install selenium\n",
        "!apt-get update # to update ubuntu to correctly run apt install\n",
        "!apt install chromium-chromedriver\n",
        "!cp /usr/lib/chromium-browser/chromedriver /usr/bin\n",
        "import sys\n",
        "sys.path.insert(0,'/usr/lib/chromium-browser/chromedriver')\n",
        "from selenium import webdriver\n",
        "chrome_options = webdriver.ChromeOptions()\n",
        "chrome_options.add_argument('--headless')\n",
        "chrome_options.add_argument('--no-sandbox')\n",
        "chrome_options.add_argument('--disable-dev-shm-usage')"
      ],
      "execution_count": null,
      "outputs": [
        {
          "output_type": "stream",
          "text": [
            "Requirement already satisfied: selenium in /usr/local/lib/python3.7/dist-packages (3.141.0)\n",
            "Requirement already satisfied: urllib3 in /usr/local/lib/python3.7/dist-packages (from selenium) (1.24.3)\n",
            "Hit:1 http://security.ubuntu.com/ubuntu bionic-security InRelease\n",
            "Hit:2 https://cloud.r-project.org/bin/linux/ubuntu bionic-cran40/ InRelease\n",
            "Ign:3 https://developer.download.nvidia.com/compute/cuda/repos/ubuntu1804/x86_64  InRelease\n",
            "Ign:4 https://developer.download.nvidia.com/compute/machine-learning/repos/ubuntu1804/x86_64  InRelease\n",
            "Hit:5 https://developer.download.nvidia.com/compute/cuda/repos/ubuntu1804/x86_64  Release\n",
            "Hit:6 http://ppa.launchpad.net/c2d4u.team/c2d4u4.0+/ubuntu bionic InRelease\n",
            "Hit:7 https://developer.download.nvidia.com/compute/machine-learning/repos/ubuntu1804/x86_64  Release\n",
            "Hit:8 http://archive.ubuntu.com/ubuntu bionic InRelease\n",
            "Hit:9 http://archive.ubuntu.com/ubuntu bionic-updates InRelease\n",
            "Hit:10 http://ppa.launchpad.net/cran/libgit2/ubuntu bionic InRelease\n",
            "Hit:11 http://archive.ubuntu.com/ubuntu bionic-backports InRelease\n",
            "Hit:12 http://ppa.launchpad.net/deadsnakes/ppa/ubuntu bionic InRelease\n",
            "Hit:13 http://ppa.launchpad.net/graphics-drivers/ppa/ubuntu bionic InRelease\n",
            "Reading package lists... Done\n",
            "Reading package lists... Done\n",
            "Building dependency tree       \n",
            "Reading state information... Done\n",
            "chromium-chromedriver is already the newest version (91.0.4472.101-0ubuntu0.18.04.1).\n",
            "0 upgraded, 0 newly installed, 0 to remove and 108 not upgraded.\n",
            "cp: '/usr/lib/chromium-browser/chromedriver' and '/usr/bin/chromedriver' are the same file\n"
          ],
          "name": "stdout"
        }
      ]
    },
    {
      "cell_type": "code",
      "metadata": {
        "colab": {
          "base_uri": "https://localhost:8080/"
        },
        "id": "y5FGGCv7cENB",
        "outputId": "c3c247de-ac64-4380-9112-0d6a0629f55d"
      },
      "source": [
        "driver = webdriver.Chrome('chromedriver',chrome_options=chrome_options)\n",
        "driver.get(\"https://www.google.com/\")"
      ],
      "execution_count": null,
      "outputs": [
        {
          "output_type": "stream",
          "text": [
            "/usr/local/lib/python3.7/dist-packages/ipykernel_launcher.py:1: DeprecationWarning: use options instead of chrome_options\n",
            "  \"\"\"Entry point for launching an IPython kernel.\n"
          ],
          "name": "stderr"
        }
      ]
    },
    {
      "cell_type": "code",
      "metadata": {
        "id": "Xcfv-ElMch2d"
      },
      "source": [
        "inp=driver.find_element_by_name(\"q\")\n",
        "string=str(input(\"Enter the game name u want to search for\"))\n",
        "inp.send_keys(string,\" review metacritic\")"
      ],
      "execution_count": null,
      "outputs": []
    },
    {
      "cell_type": "code",
      "metadata": {
        "id": "HN-QYfPAeQ-v"
      },
      "source": [
        "press_search=driver.find_element_by_name(\"btnK\")\n",
        "press_search.click()"
      ],
      "execution_count": null,
      "outputs": []
    },
    {
      "cell_type": "code",
      "metadata": {
        "id": "_n40SywEfz3L"
      },
      "source": [
        "links=driver.find_element_by_class_name('yuRUbf')\n",
        "links.click()"
      ],
      "execution_count": null,
      "outputs": []
    },
    {
      "cell_type": "code",
      "metadata": {
        "id": "QcQCGxpBf21y"
      },
      "source": [
        "from selenium.common.exceptions import NoSuchElementException\n",
        "try:\n",
        "   all_review=driver.find_element_by_class_name('see_all')\n",
        "   all_review.click()\n",
        "except NoSuchElementException:\n",
        "  print(\"SORRY THE GAME DONT HAVE ANY REVIEWS YET OR HAVE NOT BEEN RELEASED\")"
      ],
      "execution_count": null,
      "outputs": []
    },
    {
      "cell_type": "code",
      "metadata": {
        "id": "SfI0wZFsf4by"
      },
      "source": [
        "user_reviews=driver.find_element_by_class_name('nav_user_reviews')\n",
        "user_reviews.click()"
      ],
      "execution_count": null,
      "outputs": []
    },
    {
      "cell_type": "code",
      "metadata": {
        "id": "0rLMG_zcf9Xo"
      },
      "source": [
        "pages=driver.find_element_by_class_name(\"pages\")\n",
        "p=pages.text\n",
        "p=list(p.split(\"\\n\"))\n",
        "page_count=int(p[len(p)-1])\n",
        "def clean_store_data(text,reviews):\n",
        "    for i in text:\n",
        "     temp=i.text\n",
        "   #  if temp!=\"\":\n",
        "     reviews.append(temp)"
      ],
      "execution_count": null,
      "outputs": []
    },
    {
      "cell_type": "code",
      "metadata": {
        "id": "y7Te1DHMf_qp"
      },
      "source": [
        "reviews=[]\n",
        "def get_reviews(p):\n",
        " k=1\n",
        " for i in range(p):\n",
        "       next_button=driver.find_element_by_class_name(\"next\")\n",
        "       try:\n",
        "         next_button.click()\n",
        "       except StaleElementReferenceException:\n",
        "        page_count-=1\n",
        "        continue\n",
        "       text=driver.find_elements_by_class_name(\"review_body\")\n",
        "       clean_store_data(text,reviews)"
      ],
      "execution_count": null,
      "outputs": []
    },
    {
      "cell_type": "code",
      "metadata": {
        "id": "Te-P9ju0gDGb"
      },
      "source": [
        "get_reviews(page_count)"
      ],
      "execution_count": null,
      "outputs": []
    },
    {
      "cell_type": "code",
      "metadata": {
        "colab": {
          "base_uri": "https://localhost:8080/"
        },
        "id": "LHd8qhXMgv2D",
        "outputId": "6556a029-f830-44d4-f556-e7108f51613c"
      },
      "source": [
        "temp=[]\n",
        "text=driver.find_elements_by_class_name(\"review_body\")\n",
        "for i in text:\n",
        "    i=i.text\n",
        "    temp.append(i)\n",
        "for i in temp:\n",
        "    print('*****************')\n",
        "    print(i)"
      ],
      "execution_count": null,
      "outputs": [
        {
          "output_type": "stream",
          "text": [
            "*****************\n",
            "Please sign in or create an account before writing a review.\n",
            "*****************\n",
            "Funny monkey .\n",
            "*****************\n",
            "Far Cry 5 simply takes everything players loved about the previous games, and made them worse.\n",
            "\n",
            "Minimap replaced with a compass reticule at the top feels odd after playing 4 games with a minimap. Very annoying having to constantly open the Map interface to find anything past 100 meters. Stealth mechanics simply suck. What's the point of having a silencer if enemy NPC's are still\n",
            "\n",
            "\n",
            "\n",
            "\n",
            "\n",
            "\n",
            "\n",
            "\n",
            "\n",
            "\n",
            "\n",
            "\n",
            "\n",
            "\n",
            "… Expand\n",
            "*****************\n",
            "Возможно в игре хороший сюжет и красивая графика, но какая разница, если в ней просто не хочется находиться? Здесь скучно абсолютно всё: скучно рыбачить(зачем это вообще надо??), скучно охотиться(??), даже сектантов убивать скучно. Я долго думал, на что похож новый фар край. На фалаут 4 с его огромным, но бесполезным арсеналом? На ведьмак 3, с его безжизненным открытым миром? На… Expand\n",
            "*****************\n",
            "My previous experience with the Far Cry franchise is Far Cry and Far Cry 2.\n",
            "\n",
            "Far Cry (the original game by Crytek) was a pretty original game, nice open world and interesting story, with some flaws. At the time, it was a fresh take on the shooter genre that was way more linear, giving it a touch of that Bethesda open-world RPG (minus the RPG part, naturally). Far Cry 2 (by Ubisoft\n",
            "\n",
            "\n",
            "\n",
            "\n",
            "\n",
            "\n",
            "\n",
            "\n",
            "\n",
            "\n",
            "\n",
            "\n",
            "\n",
            "\n",
            "\n",
            "\n",
            "\n",
            "\n",
            "\n",
            "… Expand\n",
            "*****************\n",
            "Would definitely recommend this to anyone who still hasn't experience this amazing game. There are people that fault this game for a number of reasons, however the story is so good and strong it keeps pulling you back for more. I've played through the story of this game about 4 times, on multiple different systems, and I never get tired of playing this. It also has many side activities\n",
            "\n",
            "\n",
            "\n",
            "… Expand\n",
            "*****************\n",
            "To be honest, I don't understand why so many poeple **** on this game. Yes, it is worse than Far Cry 3, but not bad (at least in my opinion). The Mainquest is okay, the Sidequest are somtimes bad but most of the time also ok, the Gameplay is fun, and it looks incedibly good. 7/10\n",
            "*****************\n",
            "По сравнению с другими частями Far Cry хочется отметить, что эта часть является упрощенной версии игры. Да, много противников, да, они достаточно умные и в некоторых моментах они могут тебя задавить, но этого не хватает.\n",
            "\n",
            "Играя за высоком уровне сложности я ни разу не прошел какую-то сюжетную миссию повторно из-за того, что меня реально обыграл нпс. Изредка выбегали ни с того ни с сего\n",
            "\n",
            "\n",
            "\n",
            "\n",
            "\n",
            "\n",
            "\n",
            "\n",
            "\n",
            "\n",
            "\n",
            "\n",
            "\n",
            "\n",
            "\n",
            "\n",
            "… Expand\n",
            "*****************\n",
            "A very interesting story with charismatic characters. Although, some quests were monotonous. DLCs were also very inresting.\n",
            "*****************\n",
            "If you like a shooter in a big open world then Far Cry 5 is for you. It has an interesting story located in the beautiful state of Montana.\n",
            "*****************\n",
            "\n",
            "*****************\n",
            "llllllllllllllllllllllllllllllllllllllllll Good game llllllllllllllllllllllllllllllllll\n",
            "*****************\n",
            "Game with beautiful world and old-western atmosphere, gameplay isnt that original compared to FC3-4, but still brings some good experience, BUT 5-th part of Far Cry franchise is fantastically stupid game, i feel like it was made by someone who suffers from autism. The plot is unbelievebely generic and boring, the dialogues are such a stupid spent of your freetime, that just trust me - you… Expand\n",
            "*****************\n",
            "It's fun. Co-oped 99% of the game! Solid fun, well optimized for pc, runnig in ultra setting on my potato pc. 7 years old\n",
            "*****************\n",
            "This review contains spoilers, click expand to view. … Expand\n",
            "*****************\n",
            "Awesome country and graphics, average story. But shooting is awesome its just 11/10 and gameplay too, its so fun play this game you have helicopters, planes so many guns, cars, everything. If you are funboy of far cry like me and dont care about story this is game for you because everything is perfect only story is average mostly bad\n",
            "*****************\n",
            "It was my first Far Cry, so I was new to the series, but I like the idea of the cult so I bought it. The gameplay is enjoyable and fun, the scenario was stunning, the story great but not what I expected. Maybe if it wasn't so, I mean, explosive and more focusing on character aspect maybe I could enjoy even more. By the way I like it, 8/10.\n",
            "*****************\n",
            "FC5 took away most of the things I loved about the last two titles.\n",
            "\n",
            "- Gameplay - In terms of combat and stealth, Far Cry 5 plays the same as Far Cry 3 and 4, which is good. But they removed the ability to hunt and craft. You can still hunt, but you can't craft. You can only sell what you've hunted, which completely defeats the purpose of hunting. The devs might as well replace all the\n",
            "\n",
            "\n",
            "\n",
            "\n",
            "\n",
            "\n",
            "\n",
            "\n",
            "\n",
            "\n",
            "\n",
            "\n",
            "\n",
            "\n",
            "\n",
            "\n",
            "\n",
            "… Expand\n",
            "*****************\n",
            "Конвейер - как знак качества. Ну а если серьёзно лучший Far Cry в серии на данный момент)\n",
            "*****************\n",
            "That was one of the best games i played and if anyone liked the previous games i really recommend it to him. Its a definition of a good sandbox game.The story is just crazy and sometimes silly but when you play it you start realising that this is how it should be, that it was supposed to be silly and crazy . I recommend giving it a try. So don't listen to all this haters and jump into… Expand\n",
            "*****************\n",
            "This review contains spoilers, click expand to view. … Expand\n",
            "*****************\n",
            "This is by far my favorite far cry game. it's open-world story-heavy without getting in the way of what you want to do. And it's multiplayer. Its Soundtrack, both musical and orchestral is just phenomenal and perfectly sets the mood and tone for the game. I love the atmosphere of the game I love the story and everything about it. there's nothing bad I have to say about this game besides… Expand\n",
            "*****************\n",
            "It's OK. It's the Far Cry formula refined, which is great, however, the perks system seems pointless in this one, the different weapons seem pointless, money seems pointless, the AI partners are a good concept but don't contribute in any majorly meaningful way. Overall, I got a good 20 hours or so of moderately enjoyable gameplay out of it, but despite being beautiful, it mostly just… Expand\n",
            "*****************\n",
            "The starting scene of Far Cry 5 was very good and the father character was made very carefully, and our main character was just as sloppy.\n",
            "*****************\n",
            "In the end, it was a really great experience. Twisted story and lots of connections between characters made this playable. Bugs were annoying at some points but it is forgivable. It needs lots of updates and patching.\n",
            "*****************\n",
            "Personally i didn't enjoy it. It is a good game but i think it's the worst so far from Far cry series. Looking forward to FC6 though.\n",
            "*****************\n",
            "In the evolution of Far Cry also Far Cry 5 is a masterpiece.\n",
            "Ubisoft made everything alright: great graphics, fantastic immersion, realistic sound, beautiful landscapes, refreshing story setting, perfect gameplay mechanics.\n",
            "*****************\n",
            "I have a lot to talk about here. Let's start: The game is a disappointment for those who liked Far Cry 3 and Far Cry 4. Well, I don't want to say that because of this the game is bad, but you can't kill what enchanted your fans. I mean, we left adventures on an isolated island and adventures in the Himalayas to go to a typical North American landscape. See, I think a lot of games… Expand\n",
            "*****************\n",
            "This review contains spoilers, click expand to view. … Expand\n",
            "*****************\n",
            "I don't know it's just felt like the same thing with a far cry 3 and far cry 4\n",
            "*****************\n",
            "It isn't a bad game. Mechanics and gameplay is fun. Scenerio missions are good but some of the side missions we do to unlock them are boring. Scenerio concept is good but not well processed. Characters aren't good or bad.\n",
            "*****************\n",
            "Pros (a few of the many others): The game's story is pretty curious the graphics are beautiful, there are so many cool guns, and the biggest pro: you can pet all the dogs in the game. Cons: even tho the story is great and the graphics are beautiful, the game gets boring very quickly, the enemy's AI is more stupid than me (and I'm very stupid). Summary: The game is great but it can get boring fast.\n",
            "*****************\n",
            "This review contains spoilers, click expand to view.\n",
            "\n",
            "\n",
            "\n",
            "\n",
            "\n",
            "\n",
            "\n",
            "\n",
            "\n",
            "\n",
            "\n",
            "\n",
            "\n",
            "\n",
            "\n",
            "\n",
            "\n",
            "\n",
            "\n",
            "\n",
            "\n",
            "\n",
            "\n",
            "\n",
            "\n",
            "\n",
            "\n",
            "\n",
            "\n",
            "\n",
            "\n",
            "\n",
            "\n",
            "\n",
            "\n",
            "\n",
            "\n",
            "\n",
            "\n",
            "\n",
            "\n",
            "… Expand\n",
            "*****************\n",
            "me gusta mucho la tematica del juego, aunque el final(los dos) es decepcionante\n",
            "*****************\n",
            "The graphics, music and gameplay are incredible! I haven't played this game in months, and I'm still listening to the OST. There's a lot of content in this game, justifying the price tag. Overall, it's a great game that I highly recommend.\n",
            "*****************\n",
            "Yes I have to say, whole missions is sucks but except a few. Story is amazing but missions is not have any relevance to main story. But game play is kinda similar to other fc series. I would give a 10/10 if the missions was nice. But its totally sh*t. And one more thing, THE TEAM MATES ARE RETARD. And arcade is so boring too.\n",
            "*****************\n",
            "Is not a bad game, it has a great music and the plot is not bad, the graphics aren't bad, they're actually good. But the bad part are the bugs and glitches.\n",
            "*****************\n",
            "The gamaplay is ok! It´s funny clean out the cultists around and develop your mute and no named character. This game isnt in your hand at all..\n",
            "The story is absolute **** Totally on rail and don´t respond to what u want to do.\n",
            "The end is the most retarded **** I´ve ever seen. I just ended it and I am absolute frustated. Boss battles are boring. This game should have body dismembering.\n",
            "\n",
            "\n",
            "\n",
            "\n",
            "… Expand\n",
            "*****************\n",
            "This is great.Дальше не знаю как по английски писать,но игра очень атмосферная и можно закрыть глаза на сюжет.Короче 12/10\n",
            "*****************\n",
            "Интересная часть франшизы. Многие моменты, в сравнении даже с предыдущей частью оказуалили, но некоторые стали лучше такие как снятие шкуры убитых животных. Харизматичные антагонисты. Расстраивает только концовка. Более заваленной концовки еще нужно поискать. Хотя для такой безбашенной серии, наверное, это нормально. Но по сути то, ради чего сражался (мир и покой) так и не наступили. В… Expand\n",
            "*****************\n",
            "Far Cry 5 is a nice and funny FPS that you’ll enjoy most in co-op. The well-proven concept would deserve a rejuvenation and adding a story that is adequate to the rest of the game. [Issue#285]\n",
            "*****************\n",
            "This fresh take on the Far Cry franchise is clearly visible content-wise, but a tad more discrete on the style. If you're not bothered by the slightly repetitive formula, you'll enjoy the many strengths of this episode.\n",
            "*****************\n",
            "Far Cry 5 doesn’t propel the series forward — it just refines all of its elements and relegates the infamous towers to the dustbin of history. So if you‘re allergic to open worlds from Ubisoft, don’t say I didn’t warn you. But if you’re eager to meet new wacky characters, complete dozens of missions and enjoy the sights, welcome to Hope County, sinners!\n"
          ],
          "name": "stdout"
        }
      ]
    },
    {
      "cell_type": "code",
      "metadata": {
        "id": "iiR53H0Bg2gm"
      },
      "source": [
        "import textblob\n",
        "from textblob import TextBlob\n",
        "def get_Subjectivity(test):\n",
        "  return TextBlob(test).sentiment.subjectivity\n",
        "\n",
        "def get_polarity(test):\n",
        "  return TextBlob(test).sentiment.polarity"
      ],
      "execution_count": null,
      "outputs": []
    },
    {
      "cell_type": "code",
      "metadata": {
        "id": "NA6NVEqdg36L"
      },
      "source": [
        "pol_reviews=[]\n",
        "for i in range(len(reviews)):\n",
        "    pol_reviews.append(get_polarity(reviews[i]))"
      ],
      "execution_count": null,
      "outputs": []
    },
    {
      "cell_type": "code",
      "metadata": {
        "id": "USJgO-6Ug6FJ"
      },
      "source": [
        "views=[]\n",
        "def get_result(i):\n",
        "    if i<0:\n",
        "        return \"Negative\"\n",
        "    if i==0:\n",
        "        return \"Neutral\"\n",
        "    if i>0:\n",
        "        return \"Positive\"\n",
        "\n",
        "for i in pol_reviews:\n",
        "    views.append(get_result(i))"
      ],
      "execution_count": null,
      "outputs": []
    },
    {
      "cell_type": "code",
      "metadata": {
        "id": "naQPU3_ohGa1"
      },
      "source": [
        "count_pos=0\n",
        "count_neg=0\n",
        "count_neut=0\n",
        "for i in views:\n",
        "    if i==\"Positive\":\n",
        "        count_pos+=1\n",
        "    if i==\"Negative\":\n",
        "        count_neg+=1\n",
        "    if i==\"Neutral\":\n",
        "        count_neut+=1\n",
        "final_lis=[count_pos, count_neg, count_neut]"
      ],
      "execution_count": null,
      "outputs": []
    },
    {
      "cell_type": "code",
      "metadata": {
        "colab": {
          "base_uri": "https://localhost:8080/",
          "height": 533
        },
        "id": "UWqd8AcHhIVI",
        "outputId": "5fda3211-b0c0-494d-bd04-d82e14e84542"
      },
      "source": [
        "import matplotlib.pyplot as plt\n",
        "plt.figure(figsize=(8,6))\n",
        "plt.title(\"SENTIMENTAL ANALYSIS COUNT GRAPH\")\n",
        "plt.xlabel('SENTIMENTS')\n",
        "plt.ylabel('COUNT')\n",
        "#plt.bar(collect.keys(),collect.values(),color='Purple')\n",
        "plt.pie(final_lis,labels=[\"Positive\", \"Negative\", \"Neutral\"],autopct='%1.2f%%')"
      ],
      "execution_count": null,
      "outputs": [
        {
          "output_type": "execute_result",
          "data": {
            "text/plain": [
              "([<matplotlib.patches.Wedge at 0x7efdca990750>,\n",
              "  <matplotlib.patches.Wedge at 0x7efdca98fc50>,\n",
              "  <matplotlib.patches.Wedge at 0x7efdca98f150>],\n",
              " [Text(-0.18150479212244283, 1.084922121830221, 'Positive'),\n",
              "  Text(-0.34981265649773985, -1.0428955390421393, 'Negative'),\n",
              "  Text(0.9708798129030599, -0.5170999795951645, 'Neutral')],\n",
              " [Text(-0.09900261388496881, 0.5917757028164842, '55.28%'),\n",
              "  Text(-0.19080690354422172, -0.5688521122048033, '29.15%'),\n",
              "  Text(0.5295708070380326, -0.2820545343246352, '15.58%')])"
            ]
          },
          "metadata": {
            "tags": []
          },
          "execution_count": 18
        },
        {
          "output_type": "display_data",
          "data": {
            "image/png": "[encoded data removed]",
            "text/plain": [
              "<Figure size 576x432 with 1 Axes>"
            ]
          },
          "metadata": {
            "tags": []
          }
        }
      ]
    },
    {
      "cell_type": "code",
      "metadata": {
        "id": "DDviYFJnhLVj"
      },
      "source": [
        ""
      ],
      "execution_count": null,
      "outputs": []
    }
  ]
}